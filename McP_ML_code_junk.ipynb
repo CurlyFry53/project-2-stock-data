{
 "cells": [
  {
   "cell_type": "code",
   "execution_count": null,
   "metadata": {},
   "outputs": [],
   "source": [
    "#pip install streamlit\n",
    "#pip install pandas\n",
    "#%pip install --upgrade pandas\n",
    "#%pip install plotly\n",
    "#!pip install python-dotenv\n"
   ]
  },
  {
   "cell_type": "code",
   "execution_count": 5,
   "metadata": {},
   "outputs": [
    {
     "name": "stdout",
     "output_type": "stream",
     "text": [
      "Defaulting to user installation because normal site-packages is not writeable\n",
      "Requirement already satisfied: yfinance in c:\\users\\mikea\\appdata\\roaming\\python\\python311\\site-packages (0.2.36)\n",
      "Collecting yfinance\n",
      "  Obtaining dependency information for yfinance from https://files.pythonhosted.org/packages/14/03/3c854ca3e02eedf614abba4b2e177c469bf3af58207fa30d5098c5d652fe/yfinance-0.2.37-py2.py3-none-any.whl.metadata\n",
      "  Downloading yfinance-0.2.37-py2.py3-none-any.whl.metadata (11 kB)\n",
      "Requirement already satisfied: pandas>=1.3.0 in c:\\users\\mikea\\appdata\\roaming\\python\\python311\\site-packages (from yfinance) (2.2.1)\n",
      "Requirement already satisfied: numpy>=1.16.5 in c:\\programdata\\anaconda3\\lib\\site-packages (from yfinance) (1.24.3)\n",
      "Requirement already satisfied: requests>=2.31 in c:\\programdata\\anaconda3\\lib\\site-packages (from yfinance) (2.31.0)\n",
      "Requirement already satisfied: multitasking>=0.0.7 in c:\\users\\mikea\\appdata\\roaming\\python\\python311\\site-packages (from yfinance) (0.0.11)\n",
      "Requirement already satisfied: lxml>=4.9.1 in c:\\programdata\\anaconda3\\lib\\site-packages (from yfinance) (4.9.3)\n",
      "Requirement already satisfied: appdirs>=1.4.4 in c:\\programdata\\anaconda3\\lib\\site-packages (from yfinance) (1.4.4)\n",
      "Requirement already satisfied: pytz>=2022.5 in c:\\programdata\\anaconda3\\lib\\site-packages (from yfinance) (2023.3.post1)\n",
      "Requirement already satisfied: frozendict>=2.3.4 in c:\\users\\mikea\\appdata\\roaming\\python\\python311\\site-packages (from yfinance) (2.4.0)\n",
      "Requirement already satisfied: peewee>=3.16.2 in c:\\users\\mikea\\appdata\\roaming\\python\\python311\\site-packages (from yfinance) (3.17.1)\n",
      "Requirement already satisfied: beautifulsoup4>=4.11.1 in c:\\programdata\\anaconda3\\lib\\site-packages (from yfinance) (4.12.2)\n",
      "Requirement already satisfied: html5lib>=1.1 in c:\\users\\mikea\\appdata\\roaming\\python\\python311\\site-packages (from yfinance) (1.1)\n",
      "Requirement already satisfied: soupsieve>1.2 in c:\\programdata\\anaconda3\\lib\\site-packages (from beautifulsoup4>=4.11.1->yfinance) (2.4)\n",
      "Requirement already satisfied: six>=1.9 in c:\\programdata\\anaconda3\\lib\\site-packages (from html5lib>=1.1->yfinance) (1.16.0)\n",
      "Requirement already satisfied: webencodings in c:\\programdata\\anaconda3\\lib\\site-packages (from html5lib>=1.1->yfinance) (0.5.1)\n",
      "Requirement already satisfied: python-dateutil>=2.8.2 in c:\\programdata\\anaconda3\\lib\\site-packages (from pandas>=1.3.0->yfinance) (2.8.2)\n",
      "Requirement already satisfied: tzdata>=2022.7 in c:\\programdata\\anaconda3\\lib\\site-packages (from pandas>=1.3.0->yfinance) (2023.3)\n",
      "Requirement already satisfied: charset-normalizer<4,>=2 in c:\\programdata\\anaconda3\\lib\\site-packages (from requests>=2.31->yfinance) (2.0.4)\n",
      "Requirement already satisfied: idna<4,>=2.5 in c:\\programdata\\anaconda3\\lib\\site-packages (from requests>=2.31->yfinance) (3.4)\n",
      "Requirement already satisfied: urllib3<3,>=1.21.1 in c:\\programdata\\anaconda3\\lib\\site-packages (from requests>=2.31->yfinance) (1.26.16)\n",
      "Requirement already satisfied: certifi>=2017.4.17 in c:\\programdata\\anaconda3\\lib\\site-packages (from requests>=2.31->yfinance) (2023.7.22)\n",
      "Downloading yfinance-0.2.37-py2.py3-none-any.whl (72 kB)\n",
      "   ---------------------------------------- 0.0/73.0 kB ? eta -:--:--\n",
      "   ----- ---------------------------------- 10.2/73.0 kB ? eta -:--:--\n",
      "   ---------------- ----------------------- 30.7/73.0 kB 435.7 kB/s eta 0:00:01\n",
      "   ---------------------------------------- 73.0/73.0 kB 667.6 kB/s eta 0:00:00\n",
      "Installing collected packages: yfinance\n",
      "  Attempting uninstall: yfinance\n",
      "    Found existing installation: yfinance 0.2.36\n",
      "    Uninstalling yfinance-0.2.36:\n",
      "      Successfully uninstalled yfinance-0.2.36\n",
      "Successfully installed yfinance-0.2.37\n"
     ]
    },
    {
     "name": "stderr",
     "output_type": "stream",
     "text": [
      "Error processing line 15 of C:\\Users\\mikea\\AppData\\Roaming\\Python\\Python311\\site-packages\\load_dotenv.pth:\n",
      "\n",
      "  Traceback (most recent call last):\n",
      "    File \"<frozen site>\", line 186, in addpackage\n",
      "    File \"<string>\", line 1, in <module>\n",
      "    File \"C:\\Users\\mikea\\AppData\\Roaming\\Python\\Python311\\site-packages\\load_dotenv.py\", line 17, in <module>\n",
      "      from dotenv import load_dotenv\n",
      "  ModuleNotFoundError: No module named 'dotenv'\n",
      "\n",
      "Remainder of file ignored\n",
      "  WARNING: The script sample.exe is installed in 'C:\\Users\\mikea\\AppData\\Roaming\\Python\\Python311\\Scripts' which is not on PATH.\n",
      "  Consider adding this directory to PATH or, if you prefer to suppress this warning, use --no-warn-script-location.\n"
     ]
    }
   ],
   "source": [
    "#!pip install --upgrade bottleneck\n",
    "!pip install --upgrade yfinance\n"
   ]
  },
  {
   "cell_type": "code",
   "execution_count": 1,
   "metadata": {},
   "outputs": [],
   "source": [
    "#import dependancies:\n",
    "\n",
    "import streamlit as st\n",
    "from datetime import date \n",
    "import pandas as pd\n",
    "import yfinance as yf\n",
    "import plotly as px\n",
    "from plotly import graph_objs as go\n",
    "from sklearn.preprocessing import MinMaxScaler\n",
    "from sklearn.model_selection import train_test_split\n",
    "from sklearn.linear_model import LinearRegression\n",
    "from sklearn.svm import SVR\n",
    "from sklearn.metrics import mean_squared_error\n",
    "from sklearn.metrics import mean_absolute_error\n",
    "from sklearn.metrics import r2_score\n",
    "from sklearn.ensemble import RandomForestRegressor\n",
    "from sklearn.tree import DecisionTreeRegressor\n",
    "from sklearn.neighbors import KNeighborsClassifier\n",
    "from sklearn import neighbors\n",
    "import pandas as pd   \n",
    "\n",
    "\n"
   ]
  },
  {
   "cell_type": "code",
   "execution_count": 3,
   "metadata": {},
   "outputs": [
    {
     "name": "stderr",
     "output_type": "stream",
     "text": [
      "2024-02-29 16:29:25.664 No runtime found, using MemoryCacheStorageManager\n",
      "[*********************100%%**********************]  1 of 1 completed\n",
      "c:\\ProgramData\\anaconda3\\Lib\\site-packages\\_plotly_utils\\basevalidators.py:106: FutureWarning:\n",
      "\n",
      "The behavior of DatetimeProperties.to_pydatetime is deprecated, in a future version this will return a Series containing python datetime objects instead of an ndarray. To retain the old behavior, call `np.array` on the result\n",
      "\n"
     ]
    }
   ],
   "source": [
    "#gpt corrected code\n",
    "import streamlit as st\n",
    "import yfinance as yf\n",
    "import plotly.graph_objs as go\n",
    "from datetime import date\n",
    "import builtins\n",
    "\n",
    "# Custom hash function to bypass Streamlit's caching issue\n",
    "def my_hash_func(_):\n",
    "    return None\n",
    "\n",
    "# Corrected caching decorator with custom hash function for built-in function objects\n",
    "@st.cache_data(hash_funcs={type(lambda:0): my_hash_func})\n",
    "def load_index_fund_data(ticker):\n",
    "    START = \"2015-01-01\"\n",
    "    TODAY = date.today().strftime(\"%Y-%m-%d\")\n",
    "    data = yf.download(ticker, START, TODAY)\n",
    "    data.reset_index(inplace=True)\n",
    "    return data\n",
    "\n",
    "# Streamlit app layout\n",
    "st.title('Index Fund Price Forecast App')\n",
    "\n",
    "stocks = ('VOO', 'SPY', 'IVV', 'SWPPX', 'QQQ', 'VTWO', 'VTSAX', 'DIA')\n",
    "selected_stock = st.selectbox('Select dataset for prediction', stocks)\n",
    "n_years = st.slider('Years of prediction:', 1, 4)\n",
    "period = n_years * 365\n",
    "\n",
    "data_load_state = st.text('Loading data...')\n",
    "data = load_index_fund_data(selected_stock)\n",
    "data_load_state.text('Loading data... Finito!')\n",
    "\n",
    "st.subheader('Raw data')\n",
    "st.write(data.tail())\n",
    "\n",
    "# Plot the raw data\n",
    "def plot_raw_data():\n",
    "    fig = go.Figure()\n",
    "    fig.add_trace(go.Scatter(x=data['Date'], y=data['Open'], name='stock_open'))\n",
    "    fig.add_trace(go.Scatter(x=data['Date'], y=data['Close'], name='stock_close'))\n",
    "    fig.layout.update(title_text='Time Series Data', xaxis_rangeslider_visible=True)\n",
    "    st.plotly_chart(fig)\n",
    "\n",
    "plot_raw_data()\n"
   ]
  },
  {
   "cell_type": "markdown",
   "metadata": {},
   "source": [
    "#prediction forecasting random forrest regressor\n",
    "import pandas as pd\n",
    "import numpy as np\n",
    "\n",
    "model = RandomForestRegressor(n_estimators=200, min_samples_split=50, random_state=42)\n",
    "\n",
    "data= load_index_fund_data(selected_stock)\n",
    "\n",
    "X= data[['Close','Open', 'High', 'Low', 'Volume']]\n",
    "y= data['Date']\n",
    "\n",
    "X_train, X_test, y_train, y_test = train_test_split(X, y, test_size=0.2, random_state=42)\n",
    "model.fit(X,y)\n",
    "predictions = model.predict(X_test)\n",
    "train_predictions = model.predict(X_train)"
   ]
  },
  {
   "cell_type": "code",
   "execution_count": 4,
   "metadata": {},
   "outputs": [
    {
     "name": "stderr",
     "output_type": "stream",
     "text": [
      "[*********************100%%**********************]  1 of 1 completed\n"
     ]
    }
   ],
   "source": [
    "#prediction forecasting random forrest regressor\n",
    "import pandas as pd\n",
    "import numpy as np\n",
    "\n",
    "model = RandomForestRegressor(n_estimators=200, min_samples_split=50, random_state=42)\n",
    "\n",
    "data= load_index_fund_data(selected_stock)\n",
    "\n",
    "X= data[['Close','Open', 'High', 'Low', 'Volume']]\n",
    "y= data['Date']\n",
    "\n",
    "X_train, X_test, y_train, y_test = train_test_split(X, y, test_size=0.2, random_state=42)\n",
    "model.fit(X,y)\n",
    "predictions = model.predict(X_test)\n",
    "train_predictions = model.predict(X_train)"
   ]
  },
  {
   "cell_type": "code",
   "execution_count": 5,
   "metadata": {},
   "outputs": [
    {
     "ename": "AttributeError",
     "evalue": "module 'builtins' has no attribute 'function'",
     "output_type": "error",
     "traceback": [
      "\u001b[1;31m---------------------------------------------------------------------------\u001b[0m",
      "\u001b[1;31mAttributeError\u001b[0m                            Traceback (most recent call last)",
      "Cell \u001b[1;32mIn[5], line 5\u001b[0m\n\u001b[0;32m      2\u001b[0m \u001b[38;5;28;01mdef\u001b[39;00m \u001b[38;5;21mmy_hash_func\u001b[39m(_):\n\u001b[0;32m      3\u001b[0m     \u001b[38;5;28;01mreturn\u001b[39;00m \u001b[38;5;28;01mNone\u001b[39;00m\n\u001b[1;32m----> 5\u001b[0m \u001b[38;5;129m@st\u001b[39m\u001b[38;5;241m.\u001b[39mcache(hash_funcs\u001b[38;5;241m=\u001b[39m{builtins\u001b[38;5;241m.\u001b[39mfunction: my_hash_func})\n\u001b[0;32m      6\u001b[0m \n\u001b[0;32m      7\u001b[0m \n\u001b[0;32m      8\u001b[0m \u001b[38;5;28;01mdef\u001b[39;00m \u001b[38;5;21mload_index_fund_data\u001b[39m(selected_stock):\n\u001b[0;32m      9\u001b[0m     START \u001b[38;5;241m=\u001b[39m \u001b[38;5;124m\"\u001b[39m\u001b[38;5;124m2015-01-01\u001b[39m\u001b[38;5;124m\"\u001b[39m\n\u001b[0;32m     10\u001b[0m     TODAY \u001b[38;5;241m=\u001b[39m date\u001b[38;5;241m.\u001b[39mtoday()\u001b[38;5;241m.\u001b[39mstrftime(\u001b[38;5;124m\"\u001b[39m\u001b[38;5;124m%\u001b[39m\u001b[38;5;124mY-\u001b[39m\u001b[38;5;124m%\u001b[39m\u001b[38;5;124mm-\u001b[39m\u001b[38;5;132;01m%d\u001b[39;00m\u001b[38;5;124m\"\u001b[39m)\n",
      "\u001b[1;31mAttributeError\u001b[0m: module 'builtins' has no attribute 'function'"
     ]
    }
   ],
   "source": [
    "# streamlit run c:\\ProgramData\\anaconda3\\Lib\\site-packages\\ipykernel_launcher.py \n",
    "def my_hash_func(_):\n",
    "    return None\n",
    "\n",
    "@st.cache(hash_funcs={builtins.function: my_hash_func})\n",
    "\n",
    "\n",
    "def load_index_fund_data(selected_stock):\n",
    "    START = \"2015-01-01\"\n",
    "    TODAY = date.today().strftime(\"%Y-%m-%d\")\n",
    "\n",
    "st.title('Index Fund Price Forecast App')\n",
    "\n",
    "stocks = ('VOO', 'SPY', 'IVV', 'SWPPX', 'QQQ', 'VTWO', 'VTSAX', 'DIA')\n",
    "selected_stock = st.selectbox('Select dataset for prediction', stocks)\n",
    "n_years = st.slider('Years of prediction:', 1, 4)\n",
    "period = n_years * 365\n",
    "\n",
    "@st.cache\n",
    "\n",
    "def load_index_fund_data(ticker):\n",
    "    data = yf.download(ticker, START, TODAY)\n",
    "    data.reset_index(inplace=True)\n",
    "    return data\n",
    "\n",
    "data_load_state = st.text('Loading data...')\n",
    "data= load_index_fund_data(selected_stock)\n",
    "data_load_state.text('Loading data... Finito!')\n",
    "\n",
    "st.subheader('Raw data')\n",
    "st.write(data.tail())\n",
    "\n",
    "#Plot the raw data\n",
    "def plot_raw_data():\n",
    "    fig = go.Figure()\n",
    "    fig.add_trace(go.Scatter(x=data['Date'], y=data['Open'], name='stock_open'))\n",
    "    fig.add_trace(go.Scatter(x=data['Date'], y=data['Close'], name='stock_close'))\n",
    "    fig.layout.update(title_text='Time Series Data', xaxis_rangeslider_visible=True)\n",
    "    st.plotly_chart(fig)\n",
    "        \n",
    "plot_raw_data()\n",
    "\n",
    "\n"
   ]
  },
  {
   "cell_type": "code",
   "execution_count": 7,
   "metadata": {},
   "outputs": [
    {
     "ename": "NameError",
     "evalue": "name 'python' is not defined",
     "output_type": "error",
     "traceback": [
      "\u001b[1;31m---------------------------------------------------------------------------\u001b[0m",
      "\u001b[1;31mNameError\u001b[0m                                 Traceback (most recent call last)",
      "Cell \u001b[1;32mIn[7], line 1\u001b[0m\n\u001b[1;32m----> 1\u001b[0m python \u001b[38;5;241m-\u001b[39m\u001b[38;5;241m-\u001b[39mversion\n",
      "\u001b[1;31mNameError\u001b[0m: name 'python' is not defined"
     ]
    }
   ],
   "source": [
    "python --version\n",
    "# or python3 --version, depending on how Python is invoked on your system\n",
    "\n"
   ]
  }
 ],
 "metadata": {
  "kernelspec": {
   "display_name": "base",
   "language": "python",
   "name": "python3"
  },
  "language_info": {
   "codemirror_mode": {
    "name": "ipython",
    "version": 3
   },
   "file_extension": ".py",
   "mimetype": "text/x-python",
   "name": "python",
   "nbconvert_exporter": "python",
   "pygments_lexer": "ipython3",
   "version": "3.11.5"
  }
 },
 "nbformat": 4,
 "nbformat_minor": 2
}
